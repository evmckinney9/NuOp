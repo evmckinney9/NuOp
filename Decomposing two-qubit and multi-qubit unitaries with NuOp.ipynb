{
 "cells": [
  {
   "cell_type": "code",
   "execution_count": 1,
   "id": "45c06ed5",
   "metadata": {},
   "outputs": [],
   "source": [
    "import numpy as np\n",
    "import qiskit\n",
    "from qiskit import QuantumCircuit\n",
    "\n",
    "from parallel_two_qubit_gate_decomposition import *\n",
    "from gates_numpy import cnot_gate, fsim_gate, cphase_gate, xy_gate, get_gate_unitary_qiskit\n",
    "\n"
   ]
  },
  {
   "cell_type": "markdown",
   "id": "7e7b992d",
   "metadata": {},
   "source": [
    "## Decomposition example with a single two-qubit gate "
   ]
  },
  {
   "cell_type": "code",
   "execution_count": 2,
   "id": "f5e139aa",
   "metadata": {},
   "outputs": [],
   "source": [
    "# CNOT gate in the circuit\n",
    "my_op = np.matrix([[1,0,0,0],\n",
    "                   [0,1,0,0],\n",
    "                   [0,0,0,1],\n",
    "                   [0,0,1,0]])"
   ]
  },
  {
   "cell_type": "code",
   "execution_count": 3,
   "id": "d9209cf6",
   "metadata": {},
   "outputs": [
    {
     "data": {
      "text/plain": [
       "<qiskit.circuit.instructionset.InstructionSet at 0x29dccb10a48>"
      ]
     },
     "execution_count": 3,
     "metadata": {},
     "output_type": "execute_result"
    }
   ],
   "source": [
    "test_circuit = QuantumCircuit(2)\n",
    "test_circuit.unitary(my_op, [0,1])"
   ]
  },
  {
   "cell_type": "code",
   "execution_count": 4,
   "id": "14d08775",
   "metadata": {},
   "outputs": [
    {
     "data": {
      "text/html": [
       "<pre style=\"word-wrap: normal;white-space: pre;background: #fff0;line-height: 1.1;font-family: &quot;Courier New&quot;,Courier,monospace\">     ┌──────────┐\n",
       "q_0: ┤0         ├\n",
       "     │  Unitary │\n",
       "q_1: ┤1         ├\n",
       "     └──────────┘</pre>"
      ],
      "text/plain": [
       "     ┌──────────┐\n",
       "q_0: ┤0         ├\n",
       "     │  Unitary │\n",
       "q_1: ┤1         ├\n",
       "     └──────────┘"
      ]
     },
     "execution_count": 4,
     "metadata": {},
     "output_type": "execute_result"
    }
   ],
   "source": [
    "test_circuit.draw()"
   ]
  },
  {
   "cell_type": "code",
   "execution_count": 5,
   "id": "4ca93ff9",
   "metadata": {},
   "outputs": [],
   "source": [
    "# Assume the HW supports the Google SYC gate. This is an underlying fsim_gate. \n",
    "# So we pass the fsim_gate function in the gate_defs,\n",
    "# we pass the desired SYC parameters (theta=pi/2, phi=pi/6) in the params, we pass a label for circuit drawing, \n",
    "# and we pass the calibration fidelity of this gate on qubits 0 and 1\n",
    "\n",
    "fid_2q = {(0,1): [0.995]} \n",
    "params = [[np.pi/2, np.pi/6]]\n",
    "gate_labels = ['SYC']\n",
    "gate_defs = [fsim_gate]\n",
    "\n",
    "# All these inputs get passed to the gate decomposition pass. \n",
    "# Ignore the [1 to 54] loop (that was from our assumption of Sycamore hardware, but I believe it no longer plays a role)\n",
    "# tolerance defines the fidelity accuracy we want from the decomposition. If you set the tol=0.1 or so, you can see that \n",
    "# lesser two-qubit gates are used.\n",
    "\n",
    "pgrp = ParallelGateReplacementPass(gate_defs, params, gate_labels,fid_2q, [1 for _ in range(54)], tol=0.01)\n",
    "approx_cz = pgrp.run(test_circuit)"
   ]
  },
  {
   "cell_type": "code",
   "execution_count": 6,
   "id": "e98fd796",
   "metadata": {},
   "outputs": [
    {
     "data": {
      "text/html": [
       "<pre style=\"word-wrap: normal;white-space: pre;background: #fff0;line-height: 1.1;font-family: &quot;Courier New&quot;,Courier,monospace\">     ┌─────────────────────────┐ ┌──────┐┌─────────────────────────┐┌──────┐»\n",
       "q_0: ┤ U3(4.0204,5.2871,4.357) ├─┤1     ├┤ U3(3.1416,1.4988,6.212) ├┤1     ├»\n",
       "     ├─────────────────────────┴┐│  SYC │├─────────────────────────┤│  SYC │»\n",
       "q_1: ┤ U3(6.2832,7.0451,4.8067) ├┤0     ├┤ U3(1.6427,5.048,5.7377) ├┤0     ├»\n",
       "     └──────────────────────────┘└──────┘└─────────────────────────┘└──────┘»\n",
       "«     ┌──────────────────────────┐\n",
       "«q_0: ┤ U3(3.9059,1.9684,3.3621) ├\n",
       "«     ├──────────────────────────┤\n",
       "«q_1: ┤ U3(3.1416,4.2677,3.5538) ├\n",
       "«     └──────────────────────────┘</pre>"
      ],
      "text/plain": [
       "     ┌─────────────────────────┐ ┌──────┐┌─────────────────────────┐┌──────┐»\n",
       "q_0: ┤ U3(4.0204,5.2871,4.357) ├─┤1     ├┤ U3(3.1416,1.4988,6.212) ├┤1     ├»\n",
       "     ├─────────────────────────┴┐│  SYC │├─────────────────────────┤│  SYC │»\n",
       "q_1: ┤ U3(6.2832,7.0451,4.8067) ├┤0     ├┤ U3(1.6427,5.048,5.7377) ├┤0     ├»\n",
       "     └──────────────────────────┘└──────┘└─────────────────────────┘└──────┘»\n",
       "«     ┌──────────────────────────┐\n",
       "«q_0: ┤ U3(3.9059,1.9684,3.3621) ├\n",
       "«     ├──────────────────────────┤\n",
       "«q_1: ┤ U3(3.1416,4.2677,3.5538) ├\n",
       "«     └──────────────────────────┘"
      ]
     },
     "execution_count": 6,
     "metadata": {},
     "output_type": "execute_result"
    }
   ],
   "source": [
    "approx_cz.draw()"
   ]
  },
  {
   "cell_type": "markdown",
   "id": "fa120e63",
   "metadata": {},
   "source": [
    "## Decomposition example with two circuit gates with two hardware gates"
   ]
  },
  {
   "cell_type": "code",
   "execution_count": 7,
   "id": "255f382e",
   "metadata": {},
   "outputs": [
    {
     "data": {
      "text/plain": [
       "<qiskit.circuit.instructionset.InstructionSet at 0x29dccb49e58>"
      ]
     },
     "execution_count": 7,
     "metadata": {},
     "output_type": "execute_result"
    }
   ],
   "source": [
    "test_circuit = QuantumCircuit(5)\n",
    "test_circuit.unitary(my_op, [2,3])\n",
    "test_circuit.unitary(my_op, [3,4])"
   ]
  },
  {
   "cell_type": "code",
   "execution_count": 8,
   "id": "d16dd6ba",
   "metadata": {},
   "outputs": [],
   "source": [
    "fid_2q = {(2,3): [0.94, #CZ fidelity\n",
    "                  0.99],#XY fidelity\n",
    "          (3,4): [0.93, #CZ\n",
    "                  0.96]}#XY\n",
    "params = [[np.pi], \n",
    "          [np.pi]]\n",
    "gate_labels = ['CZ', \n",
    "               'XY']\n",
    "gate_defs = [cphase_gate, \n",
    "             xy_gate]\n",
    "pgrp = ParallelGateReplacementPass(gate_defs, params, gate_labels,fid_2q, [1 for _ in range(54)], tol=0.00000001)\n",
    "approx = pgrp.run(test_circuit)"
   ]
  },
  {
   "cell_type": "code",
   "execution_count": 9,
   "id": "61ed1583",
   "metadata": {},
   "outputs": [
    {
     "data": {
      "text/html": [
       "<pre style=\"word-wrap: normal;white-space: pre;background: #fff0;line-height: 1.1;font-family: &quot;Courier New&quot;,Courier,monospace\">                                                                              »\n",
       "q_0: ─────────────────────────────────────────────────────────────────────────»\n",
       "                                                                              »\n",
       "q_1: ─────────────────────────────────────────────────────────────────────────»\n",
       "          ┌─────────────────────┐     ┌─────┐   ┌──────────────────────────┐  »\n",
       "q_2: ─────┤ U3(4.7124,4.7913,π) ├─────┤1    ├───┤ U3(4.7124,4.2624,4.5596) ├──»\n",
       "         ┌┴─────────────────────┴┐    │  XY │┌──┴──────────────────────────┴─┐»\n",
       "q_3: ────┤ U3(π/2,1.7236,2.0344) ├────┤0    ├┤ U3(-5.8525e-07,6.1985,5.5563) ├»\n",
       "     ┌───┴───────────────────────┴───┐└─────┘└───────────────────────────────┘»\n",
       "q_4: ┤ U3(-2.3395e-06,1.6161,3.7951) ├────────────────────────────────────────»\n",
       "     └───────────────────────────────┘                                        »\n",
       "«                                                                           \n",
       "«q_0: ──────────────────────────────────────────────────────────────────────\n",
       "«                                                                           \n",
       "«q_1: ──────────────────────────────────────────────────────────────────────\n",
       "«     ┌─────┐   ┌──────────────────────┐                                    \n",
       "«q_2: ┤1    ├───┤ U3(1.5708,π,0.73256) ├────────────────────────────────────\n",
       "«     │  XY │┌──┴──────────────────────┴─┐┌─────┐ ┌───────────────────────┐ \n",
       "«q_3: ┤0    ├┤ U3(0.46364,3.2709,3.5916) ├┤1    ├─┤ U3(π/2,6.2832,1.4415) ├─\n",
       "«     └─────┘└───────────────────────────┘│  CZ │┌┴───────────────────────┴┐\n",
       "«q_4: ────────────────────────────────────┤0    ├┤ U3(6.2832,4.3232,2.832) ├\n",
       "«                                         └─────┘└─────────────────────────┘</pre>"
      ],
      "text/plain": [
       "                                                                              »\n",
       "q_0: ─────────────────────────────────────────────────────────────────────────»\n",
       "                                                                              »\n",
       "q_1: ─────────────────────────────────────────────────────────────────────────»\n",
       "          ┌─────────────────────┐     ┌─────┐   ┌──────────────────────────┐  »\n",
       "q_2: ─────┤ U3(4.7124,4.7913,π) ├─────┤1    ├───┤ U3(4.7124,4.2624,4.5596) ├──»\n",
       "         ┌┴─────────────────────┴┐    │  XY │┌──┴──────────────────────────┴─┐»\n",
       "q_3: ────┤ U3(π/2,1.7236,2.0344) ├────┤0    ├┤ U3(-5.8525e-07,6.1985,5.5563) ├»\n",
       "     ┌───┴───────────────────────┴───┐└─────┘└───────────────────────────────┘»\n",
       "q_4: ┤ U3(-2.3395e-06,1.6161,3.7951) ├────────────────────────────────────────»\n",
       "     └───────────────────────────────┘                                        »\n",
       "«                                                                           \n",
       "«q_0: ──────────────────────────────────────────────────────────────────────\n",
       "«                                                                           \n",
       "«q_1: ──────────────────────────────────────────────────────────────────────\n",
       "«     ┌─────┐   ┌──────────────────────┐                                    \n",
       "«q_2: ┤1    ├───┤ U3(1.5708,π,0.73256) ├────────────────────────────────────\n",
       "«     │  XY │┌──┴──────────────────────┴─┐┌─────┐ ┌───────────────────────┐ \n",
       "«q_3: ┤0    ├┤ U3(0.46364,3.2709,3.5916) ├┤1    ├─┤ U3(π/2,6.2832,1.4415) ├─\n",
       "«     └─────┘└───────────────────────────┘│  CZ │┌┴───────────────────────┴┐\n",
       "«q_4: ────────────────────────────────────┤0    ├┤ U3(6.2832,4.3232,2.832) ├\n",
       "«                                         └─────┘└─────────────────────────┘"
      ]
     },
     "execution_count": 9,
     "metadata": {},
     "output_type": "execute_result"
    }
   ],
   "source": [
    "approx.draw()"
   ]
  },
  {
   "cell_type": "markdown",
   "id": "1bb0bc05",
   "metadata": {},
   "source": [
    "## Multi-qubit unitary example"
   ]
  },
  {
   "cell_type": "code",
   "execution_count": 2,
   "id": "901b9120",
   "metadata": {},
   "outputs": [],
   "source": [
    "from parallel_multi_qubit_gate_decomposition import *"
   ]
  },
  {
   "cell_type": "code",
   "execution_count": 3,
   "id": "0117c571",
   "metadata": {},
   "outputs": [
    {
     "data": {
      "text/plain": [
       "<qiskit.circuit.instructionset.InstructionSet at 0x2799d558c78>"
      ]
     },
     "execution_count": 3,
     "metadata": {},
     "output_type": "execute_result"
    }
   ],
   "source": [
    "test_circuit = QuantumCircuit(4)\n",
    "my_op = np.kron(fsim_gate(np.pi/2, np.pi/6), fsim_gate(np.pi/3, np.pi/6)) #creating a test unitary by multiplying two fsim gates\n",
    "test_circuit.unitary(my_op, [0,1,2,3])"
   ]
  },
  {
   "cell_type": "code",
   "execution_count": 12,
   "id": "91bfb95b",
   "metadata": {},
   "outputs": [
    {
     "data": {
      "text/html": [
       "<pre style=\"word-wrap: normal;white-space: pre;background: #fff0;line-height: 1.1;font-family: &quot;Courier New&quot;,Courier,monospace\">     ┌──────────┐\n",
       "q_0: ┤0         ├\n",
       "     │          │\n",
       "q_1: ┤1         ├\n",
       "     │  Unitary │\n",
       "q_2: ┤2         ├\n",
       "     │          │\n",
       "q_3: ┤3         ├\n",
       "     └──────────┘</pre>"
      ],
      "text/plain": [
       "     ┌──────────┐\n",
       "q_0: ┤0         ├\n",
       "     │          │\n",
       "q_1: ┤1         ├\n",
       "     │  Unitary │\n",
       "q_2: ┤2         ├\n",
       "     │          │\n",
       "q_3: ┤3         ├\n",
       "     └──────────┘"
      ]
     },
     "execution_count": 12,
     "metadata": {},
     "output_type": "execute_result"
    }
   ],
   "source": [
    "test_circuit.draw()"
   ]
  },
  {
   "cell_type": "code",
   "execution_count": 13,
   "id": "ef674d22",
   "metadata": {},
   "outputs": [
    {
     "name": "stdout",
     "output_type": "stream",
     "text": [
      "0.9914448610463646\n",
      "0.008555138953635355\n"
     ]
    }
   ],
   "source": [
    "fid_2q = {(0,1): [0.99, 0.99],\n",
    "          (1,2): [0.99, 0.99],\n",
    "          (2,3): [0.94, #CZ fidelity\n",
    "                  0.99],#XY fidelity\n",
    "          (3,4): [0.93, #CZ\n",
    "                  0.96]}#XY\n",
    "params = [[np.pi], \n",
    "          [np.pi]]\n",
    "gate_labels = ['CZ', \n",
    "               'XY']\n",
    "gate_defs = [cphase_gate, \n",
    "             xy_gate]\n",
    "pgrp = MultiQubitGateReplacementPass(gate_defs, params, gate_labels,fid_2q, [1 for _ in range(54)], tol=0.0001)\n",
    "approx = pgrp.run(test_circuit)"
   ]
  },
  {
   "cell_type": "code",
   "execution_count": 14,
   "id": "22b72b07",
   "metadata": {},
   "outputs": [
    {
     "data": {
      "text/html": [
       "<pre style=\"word-wrap: normal;white-space: pre;background: #fff0;line-height: 1.1;font-family: &quot;Courier New&quot;,Courier,monospace\">     ┌──────────────────────────┐                                           »\n",
       "q_0: ┤ U3(1.5708,3.2587,3.7362) ├───────────────────────────────────────────»\n",
       "     ├──────────────────────────┤                                           »\n",
       "q_1: ┤ U3(3.4275,4.6731,1.3419) ├───────────────────────────────────────────»\n",
       "     ├─────────────────────────┬┘┌─────┐┌───────────────────────────┐┌─────┐»\n",
       "q_2: ┤ U3(1.8003,1.065,5.2354) ├─┤1    ├┤ U3(3.1416,1.6997,0.14697) ├┤1    ├»\n",
       "     ├─────────────────────────┴┐│  XY │├───────────────────────────┤│  XY │»\n",
       "q_3: ┤ U3(6.2832,4.2057,2.7951) ├┤0    ├┤ U3(6.0066,0.72829,2.3247) ├┤0    ├»\n",
       "     └──────────────────────────┘└─────┘└───────────────────────────┘└─────┘»\n",
       "«                                                                        »\n",
       "«q_0: ───────────────────────────────────────────────────────────────────»\n",
       "«                                 ┌─────┐    ┌─────────────────────┐     »\n",
       "«q_1: ────────────────────────────┤1    ├────┤ U3(π,3.2916,5.8205) ├─────»\n",
       "«     ┌──────────────────────────┐│  XY │┌───┴─────────────────────┴────┐»\n",
       "«q_2: ┤ U3(3.5655,4.3968,5.9023) ├┤0    ├┤ U3(4.0879e-06,3.6402,2.9126) ├»\n",
       "«     ├─────────────────────────┬┘└─────┘└──────────────────────────────┘»\n",
       "«q_3: ┤ U3(6.2832,4.3756,1.458) ├────────────────────────────────────────»\n",
       "«     └─────────────────────────┘                                        »\n",
       "«                                       ┌─────┐┌─────────────────────────┐ »\n",
       "«q_0: ──────────────────────────────────┤1    ├┤ U3(5.236,3.7791,3.7149) ├─»\n",
       "«     ┌─────┐┌─────────────────────────┐│  XY │├─────────────────────────┴┐»\n",
       "«q_1: ┤1    ├┤ U3(1.378,4.3514,0.4963) ├┤0    ├┤ U3(7.3304,2.0089,1.4537) ├»\n",
       "«     │  XY │├─────────────────────────┤├─────┤└─┬─────────────────────┬──┘»\n",
       "«q_2: ┤0    ├┤ U3(1.7051,2.4069,3.208) ├┤1    ├──┤ U3(π,1.6828,4.7007) ├───»\n",
       "«     └─────┘└─────────────────────────┘│  XY │┌─┴─────────────────────┴──┐»\n",
       "«q_3: ──────────────────────────────────┤0    ├┤ U3(3.2319,4.7668,4.4817) ├»\n",
       "«                                       └─────┘└──────────────────────────┘»\n",
       "«     ┌─────┐ ┌──────────────────────────┐ \n",
       "«q_0: ┤1    ├─┤ U3(4.7124,2.2852,2.7035) ├─\n",
       "«     │  XY │┌┴──────────────────────────┴┐\n",
       "«q_1: ┤0    ├┤ U3(4.7124,0.71435,0.93327) ├\n",
       "«     └─────┘└────────────────────────────┘\n",
       "«q_2: ─────────────────────────────────────\n",
       "«                                          \n",
       "«q_3: ─────────────────────────────────────\n",
       "«                                          </pre>"
      ],
      "text/plain": [
       "     ┌──────────────────────────┐                                           »\n",
       "q_0: ┤ U3(1.5708,3.2587,3.7362) ├───────────────────────────────────────────»\n",
       "     ├──────────────────────────┤                                           »\n",
       "q_1: ┤ U3(3.4275,4.6731,1.3419) ├───────────────────────────────────────────»\n",
       "     ├─────────────────────────┬┘┌─────┐┌───────────────────────────┐┌─────┐»\n",
       "q_2: ┤ U3(1.8003,1.065,5.2354) ├─┤1    ├┤ U3(3.1416,1.6997,0.14697) ├┤1    ├»\n",
       "     ├─────────────────────────┴┐│  XY │├───────────────────────────┤│  XY │»\n",
       "q_3: ┤ U3(6.2832,4.2057,2.7951) ├┤0    ├┤ U3(6.0066,0.72829,2.3247) ├┤0    ├»\n",
       "     └──────────────────────────┘└─────┘└───────────────────────────┘└─────┘»\n",
       "«                                                                        »\n",
       "«q_0: ───────────────────────────────────────────────────────────────────»\n",
       "«                                 ┌─────┐    ┌─────────────────────┐     »\n",
       "«q_1: ────────────────────────────┤1    ├────┤ U3(π,3.2916,5.8205) ├─────»\n",
       "«     ┌──────────────────────────┐│  XY │┌───┴─────────────────────┴────┐»\n",
       "«q_2: ┤ U3(3.5655,4.3968,5.9023) ├┤0    ├┤ U3(4.0879e-06,3.6402,2.9126) ├»\n",
       "«     ├─────────────────────────┬┘└─────┘└──────────────────────────────┘»\n",
       "«q_3: ┤ U3(6.2832,4.3756,1.458) ├────────────────────────────────────────»\n",
       "«     └─────────────────────────┘                                        »\n",
       "«                                       ┌─────┐┌─────────────────────────┐ »\n",
       "«q_0: ──────────────────────────────────┤1    ├┤ U3(5.236,3.7791,3.7149) ├─»\n",
       "«     ┌─────┐┌─────────────────────────┐│  XY │├─────────────────────────┴┐»\n",
       "«q_1: ┤1    ├┤ U3(1.378,4.3514,0.4963) ├┤0    ├┤ U3(7.3304,2.0089,1.4537) ├»\n",
       "«     │  XY │├─────────────────────────┤├─────┤└─┬─────────────────────┬──┘»\n",
       "«q_2: ┤0    ├┤ U3(1.7051,2.4069,3.208) ├┤1    ├──┤ U3(π,1.6828,4.7007) ├───»\n",
       "«     └─────┘└─────────────────────────┘│  XY │┌─┴─────────────────────┴──┐»\n",
       "«q_3: ──────────────────────────────────┤0    ├┤ U3(3.2319,4.7668,4.4817) ├»\n",
       "«                                       └─────┘└──────────────────────────┘»\n",
       "«     ┌─────┐ ┌──────────────────────────┐ \n",
       "«q_0: ┤1    ├─┤ U3(4.7124,2.2852,2.7035) ├─\n",
       "«     │  XY │┌┴──────────────────────────┴┐\n",
       "«q_1: ┤0    ├┤ U3(4.7124,0.71435,0.93327) ├\n",
       "«     └─────┘└────────────────────────────┘\n",
       "«q_2: ─────────────────────────────────────\n",
       "«                                          \n",
       "«q_3: ─────────────────────────────────────\n",
       "«                                          "
      ]
     },
     "execution_count": 14,
     "metadata": {},
     "output_type": "execute_result"
    }
   ],
   "source": [
    "approx.draw()"
   ]
  },
  {
   "cell_type": "code",
   "execution_count": null,
   "id": "f54a4e60",
   "metadata": {},
   "outputs": [],
   "source": [
    "fid_2q = {(0,1): [0.999, 0.999],\n",
    "          (1,2): [0.999, 0.999],\n",
    "          (2,3): [0.999, #CZ fidelity\n",
    "                  0.999],#XY fidelity\n",
    "          (3,4): [0.999, #CZ\n",
    "                  0.999]}#XY\n",
    "params = [[np.pi/2, np.pi/6], \n",
    "          [np.pi/3, np.pi/6]]\n",
    "gate_labels = ['fsim', \n",
    "               'fsim']\n",
    "gate_defs = [fsim_gate, \n",
    "             fsim_gate]\n",
    "pgrp = MultiQubitGateReplacementPass(gate_defs, params, gate_labels,fid_2q, [1 for _ in range(54)], tol=0.0001)\n",
    "approx = pgrp.run(test_circuit)"
   ]
  },
  {
   "cell_type": "code",
   "execution_count": null,
   "id": "60588057",
   "metadata": {},
   "outputs": [],
   "source": []
  }
 ],
 "metadata": {
  "kernelspec": {
   "display_name": "Python 3 (ipykernel)",
   "language": "python",
   "name": "python3"
  },
  "language_info": {
   "codemirror_mode": {
    "name": "ipython",
    "version": 3
   },
   "file_extension": ".py",
   "mimetype": "text/x-python",
   "name": "python",
   "nbconvert_exporter": "python",
   "pygments_lexer": "ipython3",
   "version": "3.7.9"
  }
 },
 "nbformat": 4,
 "nbformat_minor": 5
}
