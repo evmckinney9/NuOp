{
 "cells": [
  {
   "cell_type": "code",
   "execution_count": 13,
   "id": "45c06ed5",
   "metadata": {},
   "outputs": [],
   "source": [
    "import numpy as np\n",
    "import qiskit\n",
    "from qiskit import QuantumCircuit\n",
    "\n",
    "from parallel_two_qubit_gate_decomposition import *\n",
    "from gates_numpy import cnot_gate, fsim_gate, cphase_gate, xy_gate, get_gate_unitary_qiskit\n",
    "\n"
   ]
  },
  {
   "cell_type": "markdown",
   "id": "7e7b992d",
   "metadata": {},
   "source": [
    "## Decomposition example with a single two-qubit gate "
   ]
  },
  {
   "cell_type": "code",
   "execution_count": 14,
   "id": "f5e139aa",
   "metadata": {},
   "outputs": [],
   "source": [
    "# CNOT gate in the circuit\n",
    "my_op = np.matrix([[1,0,0,0],\n",
    "                   [0,1,0,0],\n",
    "                   [0,0,0,1],\n",
    "                   [0,0,1,0]])"
   ]
  },
  {
   "cell_type": "code",
   "execution_count": 15,
   "id": "d9209cf6",
   "metadata": {},
   "outputs": [
    {
     "data": {
      "text/plain": [
       "<qiskit.circuit.instructionset.InstructionSet at 0x26398841b88>"
      ]
     },
     "execution_count": 15,
     "metadata": {},
     "output_type": "execute_result"
    }
   ],
   "source": [
    "test_circuit = QuantumCircuit(2)\n",
    "test_circuit.unitary(my_op, [0,1])"
   ]
  },
  {
   "cell_type": "code",
   "execution_count": 16,
   "id": "14d08775",
   "metadata": {},
   "outputs": [
    {
     "data": {
      "text/html": [
       "<pre style=\"word-wrap: normal;white-space: pre;background: #fff0;line-height: 1.1;font-family: &quot;Courier New&quot;,Courier,monospace\">     ┌──────────┐\n",
       "q_0: ┤0         ├\n",
       "     │  Unitary │\n",
       "q_1: ┤1         ├\n",
       "     └──────────┘</pre>"
      ],
      "text/plain": [
       "     ┌──────────┐\n",
       "q_0: ┤0         ├\n",
       "     │  Unitary │\n",
       "q_1: ┤1         ├\n",
       "     └──────────┘"
      ]
     },
     "execution_count": 16,
     "metadata": {},
     "output_type": "execute_result"
    }
   ],
   "source": [
    "test_circuit.draw()"
   ]
  },
  {
   "cell_type": "code",
   "execution_count": 17,
   "id": "4ca93ff9",
   "metadata": {},
   "outputs": [],
   "source": [
    "# Assume the HW supports the Google SYC gate. This is an underlying fsim_gate. \n",
    "# So we pass the fsim_gate function in the gate_defs,\n",
    "# we pass the desired SYC parameters (theta=pi/2, phi=pi/6) in the params, we pass a label for circuit drawing, \n",
    "# and we pass the calibration fidelity of this gate on qubits 0 and 1\n",
    "\n",
    "fid_2q = {(0,1): [0.995]} \n",
    "params = [[np.pi/2, np.pi/6]]\n",
    "gate_labels = ['SYC']\n",
    "gate_defs = [fsim_gate]\n",
    "\n",
    "# All these inputs get passed to the gate decomposition pass. \n",
    "# Ignore the [1 to 54] loop (that was from our assumption of Sycamore hardware, but I believe it no longer plays a role)\n",
    "# tolerance defines the fidelity accuracy we want from the decomposition. If you set the tol=0.1 or so, you can see that \n",
    "# lesser two-qubit gates are used.\n",
    "\n",
    "pgrp = ParallelGateReplacementPass(gate_defs, params, gate_labels,fid_2q, [1 for _ in range(54)], tol=0.01)\n",
    "approx_cz = pgrp.run(test_circuit)"
   ]
  },
  {
   "cell_type": "code",
   "execution_count": 18,
   "id": "e98fd796",
   "metadata": {},
   "outputs": [
    {
     "data": {
      "text/html": [
       "<pre style=\"word-wrap: normal;white-space: pre;background: #fff0;line-height: 1.1;font-family: &quot;Courier New&quot;,Courier,monospace\">     ┌──────────────────────────┐┌──────┐┌─────────────────────────────┐»\n",
       "q_0: ┤ U3(0.7162,3.5347,1.9912) ├┤1     ├┤ U3(1.5708e-05,3.896,2.2172) ├»\n",
       "     ├─────────────────────────┬┘│  SYC │└─┬──────────────────────────┬┘»\n",
       "q_1: ┤ U3(3.1416,6.079,2.3007) ├─┤0     ├──┤ U3(4.7842,4.5058,1.1142) ├─»\n",
       "     └─────────────────────────┘ └──────┘  └──────────────────────────┘ »\n",
       "«     ┌──────┐┌───────────────────────────┐\n",
       "«q_0: ┤1     ├┤ U3(-0.9281,1.9121,3.4002) ├\n",
       "«     │  SYC │├───────────────────────────┤\n",
       "«q_1: ┤0     ├┤ U3(3.1416,1.8972,0.38331) ├\n",
       "«     └──────┘└───────────────────────────┘</pre>"
      ],
      "text/plain": [
       "     ┌──────────────────────────┐┌──────┐┌─────────────────────────────┐»\n",
       "q_0: ┤ U3(0.7162,3.5347,1.9912) ├┤1     ├┤ U3(1.5708e-05,3.896,2.2172) ├»\n",
       "     ├─────────────────────────┬┘│  SYC │└─┬──────────────────────────┬┘»\n",
       "q_1: ┤ U3(3.1416,6.079,2.3007) ├─┤0     ├──┤ U3(4.7842,4.5058,1.1142) ├─»\n",
       "     └─────────────────────────┘ └──────┘  └──────────────────────────┘ »\n",
       "«     ┌──────┐┌───────────────────────────┐\n",
       "«q_0: ┤1     ├┤ U3(-0.9281,1.9121,3.4002) ├\n",
       "«     │  SYC │├───────────────────────────┤\n",
       "«q_1: ┤0     ├┤ U3(3.1416,1.8972,0.38331) ├\n",
       "«     └──────┘└───────────────────────────┘"
      ]
     },
     "execution_count": 18,
     "metadata": {},
     "output_type": "execute_result"
    }
   ],
   "source": [
    "approx_cz.draw()"
   ]
  },
  {
   "cell_type": "markdown",
   "id": "fa120e63",
   "metadata": {},
   "source": [
    "## Decomposition example with two circuit gates with two hardware gates"
   ]
  },
  {
   "cell_type": "code",
   "execution_count": 19,
   "id": "255f382e",
   "metadata": {},
   "outputs": [
    {
     "data": {
      "text/plain": [
       "<qiskit.circuit.instructionset.InstructionSet at 0x263986a4138>"
      ]
     },
     "execution_count": 19,
     "metadata": {},
     "output_type": "execute_result"
    }
   ],
   "source": [
    "test_circuit = QuantumCircuit(5)\n",
    "test_circuit.unitary(my_op, [2,3])\n",
    "test_circuit.unitary(my_op, [3,4])"
   ]
  },
  {
   "cell_type": "code",
   "execution_count": 21,
   "id": "d16dd6ba",
   "metadata": {},
   "outputs": [],
   "source": [
    "fid_2q = {(2,3): [0.94, #CZ fidelity\n",
    "                  0.99],#XY fidelity\n",
    "          (3,4): [0.93, #CZ\n",
    "                  0.96]}#XY\n",
    "params = [[np.pi], \n",
    "          [np.pi]]\n",
    "gate_labels = ['CZ', \n",
    "               'XY']\n",
    "gate_defs = [cphase_gate, \n",
    "             xy_gate]\n",
    "pgrp = ParallelGateReplacementPass(gate_defs, params, gate_labels,fid_2q, [1 for _ in range(54)], tol=0.00000001)\n",
    "approx = pgrp.run(test_circuit)"
   ]
  },
  {
   "cell_type": "code",
   "execution_count": 9,
   "id": "61ed1583",
   "metadata": {},
   "outputs": [
    {
     "data": {
      "text/html": [
       "<pre style=\"word-wrap: normal;white-space: pre;background: #fff0;line-height: 1.1;font-family: &quot;Courier New&quot;,Courier,monospace\">                                                                              »\n",
       "q_0: ─────────────────────────────────────────────────────────────────────────»\n",
       "                                                                              »\n",
       "q_1: ─────────────────────────────────────────────────────────────────────────»\n",
       "         ┌──────────────────────────┐   ┌─────┐┌─────────────────────────────┐»\n",
       "q_2: ────┤ U3(4.7124,1.7852,1.5708) ├───┤1    ├┤ U3(1.2817e-05,6.483,4.6895) ├»\n",
       "      ┌──┴──────────────────────────┴─┐ │  XY │└─┬──────────────────────────┬┘»\n",
       "q_3: ─┤ U3(-2.6502e-05,1.3092,2.5453) ├─┤0    ├──┤ U3(1.5708,4.5478,2.9271) ├─»\n",
       "     ┌┴───────────────────────────────┴┐└─────┘  └──────────────────────────┘ »\n",
       "q_4: ┤ U3(1.7814e-06,2.4564,-0.033932) ├──────────────────────────────────────»\n",
       "     └─────────────────────────────────┘                                      »\n",
       "«                                                   »\n",
       "«q_0: ──────────────────────────────────────────────»\n",
       "«                                                   »\n",
       "«q_1: ──────────────────────────────────────────────»\n",
       "«     ┌─────┐┌──────────────────────────────┐       »\n",
       "«q_2: ┤1    ├┤ U3(1.4505e-05,6.7556,4.4046) ├───────»\n",
       "«     │  XY │└┬───────────────────────────┬─┘┌─────┐»\n",
       "«q_3: ┤0    ├─┤ U3(1.5708,0.84293,5.3933) ├──┤1    ├»\n",
       "«     └─────┘ └───────────────────────────┘  │  CZ │»\n",
       "«q_4: ───────────────────────────────────────┤0    ├»\n",
       "«                                            └─────┘»\n",
       "«                                      \n",
       "«q_0: ─────────────────────────────────\n",
       "«                                      \n",
       "«q_1: ─────────────────────────────────\n",
       "«                                      \n",
       "«q_2: ─────────────────────────────────\n",
       "«     ┌───────────────────────────────┐\n",
       "«q_3: ┤ U3(4.7124,-2.1422e-05,5.4403) ├\n",
       "«     └┬──────────────────────────────┤\n",
       "«q_4: ─┤ U3(6.1592e-07,1.5341,5.4682) ├\n",
       "«      └──────────────────────────────┘</pre>"
      ],
      "text/plain": [
       "                                                                              »\n",
       "q_0: ─────────────────────────────────────────────────────────────────────────»\n",
       "                                                                              »\n",
       "q_1: ─────────────────────────────────────────────────────────────────────────»\n",
       "         ┌──────────────────────────┐   ┌─────┐┌─────────────────────────────┐»\n",
       "q_2: ────┤ U3(4.7124,1.7852,1.5708) ├───┤1    ├┤ U3(1.2817e-05,6.483,4.6895) ├»\n",
       "      ┌──┴──────────────────────────┴─┐ │  XY │└─┬──────────────────────────┬┘»\n",
       "q_3: ─┤ U3(-2.6502e-05,1.3092,2.5453) ├─┤0    ├──┤ U3(1.5708,4.5478,2.9271) ├─»\n",
       "     ┌┴───────────────────────────────┴┐└─────┘  └──────────────────────────┘ »\n",
       "q_4: ┤ U3(1.7814e-06,2.4564,-0.033932) ├──────────────────────────────────────»\n",
       "     └─────────────────────────────────┘                                      »\n",
       "«                                                   »\n",
       "«q_0: ──────────────────────────────────────────────»\n",
       "«                                                   »\n",
       "«q_1: ──────────────────────────────────────────────»\n",
       "«     ┌─────┐┌──────────────────────────────┐       »\n",
       "«q_2: ┤1    ├┤ U3(1.4505e-05,6.7556,4.4046) ├───────»\n",
       "«     │  XY │└┬───────────────────────────┬─┘┌─────┐»\n",
       "«q_3: ┤0    ├─┤ U3(1.5708,0.84293,5.3933) ├──┤1    ├»\n",
       "«     └─────┘ └───────────────────────────┘  │  CZ │»\n",
       "«q_4: ───────────────────────────────────────┤0    ├»\n",
       "«                                            └─────┘»\n",
       "«                                      \n",
       "«q_0: ─────────────────────────────────\n",
       "«                                      \n",
       "«q_1: ─────────────────────────────────\n",
       "«                                      \n",
       "«q_2: ─────────────────────────────────\n",
       "«     ┌───────────────────────────────┐\n",
       "«q_3: ┤ U3(4.7124,-2.1422e-05,5.4403) ├\n",
       "«     └┬──────────────────────────────┤\n",
       "«q_4: ─┤ U3(6.1592e-07,1.5341,5.4682) ├\n",
       "«      └──────────────────────────────┘"
      ]
     },
     "execution_count": 9,
     "metadata": {},
     "output_type": "execute_result"
    }
   ],
   "source": [
    "approx.draw()"
   ]
  },
  {
   "cell_type": "code",
   "execution_count": null,
   "id": "8d29ac18",
   "metadata": {},
   "outputs": [],
   "source": []
  }
 ],
 "metadata": {
  "kernelspec": {
   "display_name": "Python 3 (ipykernel)",
   "language": "python",
   "name": "python3"
  },
  "language_info": {
   "codemirror_mode": {
    "name": "ipython",
    "version": 3
   },
   "file_extension": ".py",
   "mimetype": "text/x-python",
   "name": "python",
   "nbconvert_exporter": "python",
   "pygments_lexer": "ipython3",
   "version": "3.7.9"
  }
 },
 "nbformat": 4,
 "nbformat_minor": 5
}
